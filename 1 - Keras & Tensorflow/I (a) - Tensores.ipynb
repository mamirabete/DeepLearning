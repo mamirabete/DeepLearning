{
 "cells": [
  {
   "cell_type": "markdown",
   "metadata": {},
   "source": [
    "¿ Qué es un grafo ?\n",
    "==\n",
    "> En matemáticas y ciencias de la computación, un grafo (del griego grafos: dibujo, imagen) es un conjunto de objetos llamados vértices o nodos unidos por enlaces llamados aristas o arcos, que permiten representar relaciones binarias entre elementos de un conjunto.  Son objeto de estudio de la teoría de grafos."
   ]
  },
  {
   "cell_type": "markdown",
   "metadata": {},
   "source": [
    "<center><img src=\"https://upload.wikimedia.org/wikipedia/commons/5/57/6n-graf.png\" style=\"width:200px;\"/></center>"
   ]
  },
  {
   "cell_type": "markdown",
   "metadata": {},
   "source": [
    "\n",
    "<center><h6><b style=\"color:#000;\">Grafo con 6 vertices</b></h6></center>\n"
   ]
  },
  {
   "cell_type": "markdown",
   "metadata": {},
   "source": [
    "¿ Qué es TensorFlow ?\n",
    "==\n",
    "\n",
    "TensorFlow es una librería de código abierto para cálculo numérico, usando como forma de programación grafos de flujo de datos. \n",
    "<ul>\n",
    "    <li><b>Los nodos</b> en el grafo representan operaciones matemáticas, mientras que </li>\n",
    "    <li><b>Las conexiones o links del grafo</b> representan los conjuntos de datos multidimensionales (tensores)  o arrays multidimensionales.</li>\n",
    "</ul>\n",
    "\n",
    "> Con esta librería somos capaces, entre otras operaciones, de construir y entrenar redes neuronales para detectar correlaciones y descifrar patrones, análogos al aprendizaje y razonamiento usados por los humanos.\n"
   ]
  },
  {
   "cell_type": "markdown",
   "metadata": {},
   "source": [
    "<h1>¿Qué es un Tensor?</h1>\n",
    "\n",
    "> Los tensores son matrices multidimensionales con un tipo uniforme (llamado dtype ). Puede ver todos los dtypes admitidos en tf.dtypes.DType a continuación:\n",
    "\n",
    "> Referencia: https://www.tensorflow.org/guide/tensor\n",
    "\n",
    "Tipos de datos definidos:\n",
    "\n",
    "> Referencia: https://www.tensorflow.org/api_docs/python/tf/dtypes/DType\n",
    "\n",
    "<ul>import tensorflow as tf\n",
    "import numpy as np \n",
    "    <li>tf.float16: 16-bit half-precision floating-point.</li>\n",
    "    <li>tf.float32: 32-bit single-precision floating-point.</li>\n",
    "    <li>tf.float64: 64-bit double-precision floating-point.</li>\n",
    "    <li>tf.bfloat16: 16-bit truncated floating-point.</li>\n",
    "    <li>tf.complex64: 64-bit single-precision complex.</li>\n",
    "    <li>tf.complex128: 128-bit double-precision complex.</li>\n",
    "    <li>tf.int8: 8-bit signed integer.</li>\n",
    "    <li>tf.uint8: 8-bit unsigned integer.</li>\n",
    "    <li>tf.uint16: 16-bit unsigned integer.</li>\n",
    "    <li>tf.uint32: 32-bit unsigned integer.</li>\n",
    "    <li>tf.uint64: 64-bit unsigned integer.</li>\n",
    "    <li>tf.int16: 16-bit signed integer.</li>\n",
    "    <li>tf.int32: 32-bit signed integer.</li>\n",
    "    <li>tf.int64: 64-bit signed integer.</li>\n",
    "    <li>tf.bool: Boolean.</li>\n",
    "    <li>tf.string: String.</li>\n",
    "    <li>tf.qint8: Quantized 8-bit signed integer.</li>\n",
    "    <li>tf.quint8: Quantized 8-bit unsigned integer.</li>\n",
    "    <li>tf.qint16: Quantized 16-bit signed integer.</li>\n",
    "    <li>tf.quint16: Quantized 16-bit unsigned integer.</li>\n",
    "    <li>tf.qint32: Quantized 32-bit signed integer.</li>\n",
    "    <li>tf.resource: Handle to a mutable resource.</li>\n",
    "    <li>tf.variant: Values of arbitrary types.</li>\n",
    "    <li>The tf.as_dtype() function converts numpy types and string type names to a DType object.</li>\n",
    "</ul>"
   ]
  },
  {
   "cell_type": "markdown",
   "metadata": {},
   "source": [
    "> Si está familiarizado con NumPy , los tensores son (algo así como) como <b>np.arrays</b> .\n",
    "\n",
    "> Casi todos los tensores <b>son inmutables</b> como las tuplas de Python: no se puede actualizar el contenido de un tensor, solo crear uno nuevo."
   ]
  },
  {
   "cell_type": "code",
   "execution_count": 1,
   "metadata": {},
   "outputs": [
    {
     "name": "stdout",
     "output_type": "stream",
     "text": [
      "Collecting tensorflow\n",
      "  Using cached tensorflow-2.16.1-cp311-cp311-manylinux_2_17_x86_64.manylinux2014_x86_64.whl.metadata (4.3 kB)\n",
      "Requirement already satisfied: absl-py>=1.0.0 in /home/mmirabete/anaconda3/lib/python3.11/site-packages (from tensorflow) (2.1.0)\n",
      "Requirement already satisfied: astunparse>=1.6.0 in /home/mmirabete/anaconda3/lib/python3.11/site-packages (from tensorflow) (1.6.3)\n",
      "Requirement already satisfied: flatbuffers>=23.5.26 in /home/mmirabete/anaconda3/lib/python3.11/site-packages (from tensorflow) (24.3.25)\n",
      "Requirement already satisfied: gast!=0.5.0,!=0.5.1,!=0.5.2,>=0.2.1 in /home/mmirabete/anaconda3/lib/python3.11/site-packages (from tensorflow) (0.5.4)\n",
      "Requirement already satisfied: google-pasta>=0.1.1 in /home/mmirabete/anaconda3/lib/python3.11/site-packages (from tensorflow) (0.2.0)\n",
      "Requirement already satisfied: h5py>=3.10.0 in /home/mmirabete/anaconda3/lib/python3.11/site-packages (from tensorflow) (3.11.0)\n",
      "Requirement already satisfied: libclang>=13.0.0 in /home/mmirabete/anaconda3/lib/python3.11/site-packages (from tensorflow) (18.1.1)\n",
      "Requirement already satisfied: ml-dtypes~=0.3.1 in /home/mmirabete/anaconda3/lib/python3.11/site-packages (from tensorflow) (0.3.2)\n",
      "Requirement already satisfied: opt-einsum>=2.3.2 in /home/mmirabete/anaconda3/lib/python3.11/site-packages (from tensorflow) (3.3.0)\n",
      "Requirement already satisfied: packaging in /home/mmirabete/anaconda3/lib/python3.11/site-packages (from tensorflow) (23.1)\n",
      "Requirement already satisfied: protobuf!=4.21.0,!=4.21.1,!=4.21.2,!=4.21.3,!=4.21.4,!=4.21.5,<5.0.0dev,>=3.20.3 in /home/mmirabete/anaconda3/lib/python3.11/site-packages (from tensorflow) (3.20.3)\n",
      "Requirement already satisfied: requests<3,>=2.21.0 in /home/mmirabete/anaconda3/lib/python3.11/site-packages (from tensorflow) (2.31.0)\n",
      "Requirement already satisfied: setuptools in /home/mmirabete/anaconda3/lib/python3.11/site-packages (from tensorflow) (68.2.2)\n",
      "Requirement already satisfied: six>=1.12.0 in /home/mmirabete/anaconda3/lib/python3.11/site-packages (from tensorflow) (1.16.0)\n",
      "Requirement already satisfied: termcolor>=1.1.0 in /home/mmirabete/anaconda3/lib/python3.11/site-packages (from tensorflow) (2.4.0)\n",
      "Requirement already satisfied: typing-extensions>=3.6.6 in /home/mmirabete/anaconda3/lib/python3.11/site-packages (from tensorflow) (4.9.0)\n",
      "Requirement already satisfied: wrapt>=1.11.0 in /home/mmirabete/anaconda3/lib/python3.11/site-packages (from tensorflow) (1.14.1)\n",
      "Requirement already satisfied: grpcio<2.0,>=1.24.3 in /home/mmirabete/anaconda3/lib/python3.11/site-packages (from tensorflow) (1.64.0)\n",
      "Requirement already satisfied: tensorboard<2.17,>=2.16 in /home/mmirabete/anaconda3/lib/python3.11/site-packages (from tensorflow) (2.16.2)\n",
      "Requirement already satisfied: keras>=3.0.0 in /home/mmirabete/anaconda3/lib/python3.11/site-packages (from tensorflow) (3.3.3)\n",
      "Requirement already satisfied: tensorflow-io-gcs-filesystem>=0.23.1 in /home/mmirabete/anaconda3/lib/python3.11/site-packages (from tensorflow) (0.37.0)\n",
      "Requirement already satisfied: numpy<2.0.0,>=1.23.5 in /home/mmirabete/anaconda3/lib/python3.11/site-packages (from tensorflow) (1.26.4)\n",
      "Requirement already satisfied: wheel<1.0,>=0.23.0 in /home/mmirabete/anaconda3/lib/python3.11/site-packages (from astunparse>=1.6.0->tensorflow) (0.41.2)\n",
      "Requirement already satisfied: rich in /home/mmirabete/anaconda3/lib/python3.11/site-packages (from keras>=3.0.0->tensorflow) (13.3.5)\n",
      "Requirement already satisfied: namex in /home/mmirabete/anaconda3/lib/python3.11/site-packages (from keras>=3.0.0->tensorflow) (0.0.8)\n",
      "Requirement already satisfied: optree in /home/mmirabete/anaconda3/lib/python3.11/site-packages (from keras>=3.0.0->tensorflow) (0.11.0)\n",
      "Requirement already satisfied: charset-normalizer<4,>=2 in /home/mmirabete/anaconda3/lib/python3.11/site-packages (from requests<3,>=2.21.0->tensorflow) (2.0.4)\n",
      "Requirement already satisfied: idna<4,>=2.5 in /home/mmirabete/anaconda3/lib/python3.11/site-packages (from requests<3,>=2.21.0->tensorflow) (3.4)\n",
      "Requirement already satisfied: urllib3<3,>=1.21.1 in /home/mmirabete/anaconda3/lib/python3.11/site-packages (from requests<3,>=2.21.0->tensorflow) (2.0.7)\n",
      "Requirement already satisfied: certifi>=2017.4.17 in /home/mmirabete/anaconda3/lib/python3.11/site-packages (from requests<3,>=2.21.0->tensorflow) (2024.2.2)\n",
      "Requirement already satisfied: markdown>=2.6.8 in /home/mmirabete/anaconda3/lib/python3.11/site-packages (from tensorboard<2.17,>=2.16->tensorflow) (3.4.1)\n",
      "Requirement already satisfied: tensorboard-data-server<0.8.0,>=0.7.0 in /home/mmirabete/anaconda3/lib/python3.11/site-packages (from tensorboard<2.17,>=2.16->tensorflow) (0.7.2)\n",
      "Requirement already satisfied: werkzeug>=1.0.1 in /home/mmirabete/anaconda3/lib/python3.11/site-packages (from tensorboard<2.17,>=2.16->tensorflow) (2.2.3)\n",
      "Requirement already satisfied: MarkupSafe>=2.1.1 in /home/mmirabete/anaconda3/lib/python3.11/site-packages (from werkzeug>=1.0.1->tensorboard<2.17,>=2.16->tensorflow) (2.1.3)\n",
      "Requirement already satisfied: markdown-it-py<3.0.0,>=2.2.0 in /home/mmirabete/anaconda3/lib/python3.11/site-packages (from rich->keras>=3.0.0->tensorflow) (2.2.0)\n",
      "Requirement already satisfied: pygments<3.0.0,>=2.13.0 in /home/mmirabete/anaconda3/lib/python3.11/site-packages (from rich->keras>=3.0.0->tensorflow) (2.15.1)\n",
      "Requirement already satisfied: mdurl~=0.1 in /home/mmirabete/anaconda3/lib/python3.11/site-packages (from markdown-it-py<3.0.0,>=2.2.0->rich->keras>=3.0.0->tensorflow) (0.1.0)\n",
      "Using cached tensorflow-2.16.1-cp311-cp311-manylinux_2_17_x86_64.manylinux2014_x86_64.whl (589.8 MB)\n",
      "Installing collected packages: tensorflow\n",
      "\u001b[31mERROR: Could not install packages due to an OSError: [Errno 28] No queda espacio en el dispositivo\n",
      "\u001b[0m\u001b[31m\n",
      "\u001b[0m\u001b[33mWARNING: There was an error checking the latest version of pip.\u001b[0m\u001b[33m\n",
      "\u001b[0mNote: you may need to restart the kernel to use updated packages.\n"
     ]
    }
   ],
   "source": [
    "pip install tensorflow"
   ]
  },
  {
   "cell_type": "code",
   "execution_count": null,
   "metadata": {},
   "outputs": [],
   "source": [
    "import tensorflow as tf\n",
    "import numpy as np"
   ]
  },
  {
   "cell_type": "markdown",
   "metadata": {},
   "source": [
    "<h2>Tensor de rango cero</h2>\n",
    "\n",
    "> Aquí hay un tensor \"escalar\" o \"rango 0\". Un escalar contiene un valor único y no \"ejes\"."
   ]
  },
  {
   "cell_type": "code",
   "execution_count": null,
   "metadata": {},
   "outputs": [],
   "source": [
    "rank_0_tensor = tf.constant(4)\n",
    "print(rank_0_tensor)"
   ]
  },
  {
   "cell_type": "markdown",
   "metadata": {},
   "source": [
    "<h2>Tensor de rango uno</h2>\n",
    "\n",
    "> Un tensor de \"vector\" o de \"rango 1\" es como una lista de valores. Un vector tiene 1 eje:\n",
    "\n",
    "> <b style=\"color:#f00;\">Notar que lo toma como un vector vertical</b>"
   ]
  },
  {
   "cell_type": "code",
   "execution_count": null,
   "metadata": {},
   "outputs": [],
   "source": [
    "rank_1_tensor = tf.constant([2.0, 3.0, 4.0])\n",
    "print(rank_1_tensor)"
   ]
  },
  {
   "cell_type": "markdown",
   "metadata": {},
   "source": [
    "<h2>Tensor de rango 2</h2>\n",
    "\n",
    "> Un tensor de \"matriz\" o \"rango 2\" tiene 2 ejes:"
   ]
  },
  {
   "cell_type": "code",
   "execution_count": null,
   "metadata": {},
   "outputs": [],
   "source": [
    "rank_2_tensor = tf.constant([[1, 2],\n",
    "                             [3, 4],\n",
    "                             [5, 6]], dtype=tf.float16)\n",
    "print(rank_2_tensor)\n"
   ]
  },
  {
   "cell_type": "markdown",
   "metadata": {},
   "source": [
    "<h2>Tensor de rango 3</h2>"
   ]
  },
  {
   "cell_type": "code",
   "execution_count": null,
   "metadata": {
    "scrolled": true
   },
   "outputs": [],
   "source": [
    "rank_3_tensor = tf.constant([\n",
    "  [[0, 1, 2, 3, 4], [5, 6, 7, 8, 9]],\n",
    "  [[10, 11, 12, 13, 14],[15, 16, 17, 18, 19]],\n",
    "  [[20, 21, 22, 23, 24],[25, 26, 27, 28, 29]],\n",
    "])\n",
    "\n",
    "print(rank_3_tensor)"
   ]
  },
  {
   "cell_type": "markdown",
   "metadata": {},
   "source": [
    "<h1>De TensorFlow a numpy</h1>\n",
    "\n",
    "> Puede convertir un tensor en una matriz NumPy usando <b>np.array</b> o el método <b>tensor.numpy</b>:"
   ]
  },
  {
   "cell_type": "code",
   "execution_count": null,
   "metadata": {},
   "outputs": [],
   "source": [
    "np.array(rank_2_tensor)\n",
    "#type(np.array(rank_2_tensor))"
   ]
  },
  {
   "cell_type": "markdown",
   "metadata": {},
   "source": [
    "<h1>Matemática con tensores</h1>\n",
    "\n",
    "> Podemos hacer matemáticas básicas con tensores, incluida la suma, la multiplicación por elementos y la multiplicación de matrices."
   ]
  },
  {
   "cell_type": "code",
   "execution_count": null,
   "metadata": {},
   "outputs": [],
   "source": [
    "a = tf.constant([[1, 2],\n",
    "                 [3, 4]])\n",
    "b = tf.constant([[1, 1],\n",
    "                 [1, 1]]) # Could have also said `tf.ones([2,2])`\n",
    "\n",
    "print(tf.add(a, b), \"\\n\")\n",
    "print(tf.multiply(a, b), \"\\n\")\n",
    "print(tf.matmul(a, b), \"\\n\")"
   ]
  },
  {
   "cell_type": "code",
   "execution_count": null,
   "metadata": {},
   "outputs": [],
   "source": [
    "print(a + b, \"\\n\") # element-wise addition\n",
    "print(a * b, \"\\n\") # element-wise multiplication\n",
    "print(a @ b, \"\\n\") # matrix multiplication"
   ]
  },
  {
   "cell_type": "markdown",
   "metadata": {},
   "source": [
    "<h1>Acerca de las formas</h1>\n",
    "\n",
    "Los tensores tienen formas. Algo de vocabulario:\n",
    "<ul>\n",
    "    <li><b style=\"font-size:20px; color:red;\">Forma (Shape) :</b> La longitud (número de elementos) de cada una de las dimensiones de un tensor.</li>\n",
    "<li><b style=\"font-size:20px; color:red;\">Rango (rank ó degree ó order ó ndims):</b> Número de dimensiones del tensor. Un escalar tiene rango 0, un vector tiene rango 1, una matriz tiene rango 2. El rango de un tensor no es el mismo que el de una matriz. El rango de un tensor es el número de índices necesarios para seleccionar de forma única cada elemento del tensor.</li>\n",
    "<li><b style=\"font-size:20px; color:red;\">Eje o dimensión :</b> dimensión particular de un tensor.</li>\n",
    "<li><b style=\"font-size:20px; color:red;\">Tamaño : </b>el número total de elementos en el tensor, el vector de forma del producto</li>\n",
    "</ul>"
   ]
  },
  {
   "cell_type": "markdown",
   "metadata": {},
   "source": [
    "<h2>Forma del tensor</h2>"
   ]
  },
  {
   "cell_type": "code",
   "execution_count": null,
   "metadata": {},
   "outputs": [],
   "source": [
    "rank_4_tensor = tf.zeros([3, 2, 4, 5])"
   ]
  },
  {
   "cell_type": "code",
   "execution_count": null,
   "metadata": {},
   "outputs": [],
   "source": [
    "print(\"Type of every element:\", rank_4_tensor.dtype)\n",
    "print(\"Number of dimensions:\", rank_4_tensor.ndim)\n",
    "print(\"Shape of tensor:\", rank_4_tensor.shape)\n",
    "print(\"Elements along axis 0 of tensor:\", rank_4_tensor.shape[0])\n",
    "print(\"Elements along the last axis of tensor:\", rank_4_tensor.shape[-1])\n",
    "print(\"Total number of elements (3*2*4*5): \", tf.size(rank_4_tensor).numpy())\n",
    "print(\"Rank\", tf.rank(rank_4_tensor))\n"
   ]
  },
  {
   "cell_type": "markdown",
   "metadata": {},
   "source": [
    "<h1>Ejemplos de tensores</h1>\n"
   ]
  },
  {
   "cell_type": "code",
   "execution_count": null,
   "metadata": {},
   "outputs": [],
   "source": [
    "string = tf.Variable(\"Esto es un string\", tf.string)\n",
    "numero = tf.Variable(333, tf.int16)\n",
    "floating = tf.Variable(4.89, tf.float64)\n",
    "tensorrango2 = tf.Variable([[\"pera\", \"Manzana\", \"Manzana\"], [\"true\", \"false\", \"Manzana\"]], tf.string)"
   ]
  },
  {
   "cell_type": "code",
   "execution_count": null,
   "metadata": {},
   "outputs": [],
   "source": [
    "print(tf.rank(tensorrango2))"
   ]
  },
  {
   "cell_type": "code",
   "execution_count": null,
   "metadata": {},
   "outputs": [],
   "source": [
    "print(\"Forma de la matriz\", tensorrango2.shape)"
   ]
  },
  {
   "cell_type": "markdown",
   "metadata": {},
   "source": [
    "<h1>Cambio de forma</h1>"
   ]
  },
  {
   "cell_type": "markdown",
   "metadata": {},
   "source": [
    "> El número de elementos de un tensor es el producto del tamaño de todas sus formas\n",
    "> En ocaciones hay formas (shapes) que tienen el mismo numero de elementos\n",
    "> haciendo conveniente cambiar la forma (shape) de un tensor."
   ]
  },
  {
   "cell_type": "code",
   "execution_count": null,
   "metadata": {},
   "outputs": [],
   "source": [
    "# CREAMOS UN TENSOR DE FORMA [1,2,3] LLENO DE UNOS \n",
    "# Esto me da una lista que dentro tiene 2 listas con tres componentes cada uno\n",
    "tensor1 = tf.ones([1,2,3])\n",
    "# Esto me da dos listas que dentro tienen tres listas con 1 componente cada uno\n",
    "tensor2 = tf.reshape(tensor1, [2,3,1])\n",
    "# -1 le dice al tensor que calcule el tamaño de la dimensión en \n",
    "# este lugar lo cual realiza un cambio a la forma [3,2]\n",
    "tensor3 = tf.reshape(tensor2, [3, -1])"
   ]
  },
  {
   "cell_type": "code",
   "execution_count": null,
   "metadata": {},
   "outputs": [],
   "source": [
    "print(tensor1)\n",
    "tf.rank(tensor1)"
   ]
  },
  {
   "cell_type": "code",
   "execution_count": null,
   "metadata": {},
   "outputs": [],
   "source": [
    "print(tensor2)\n",
    "tf.rank(tensor2)"
   ]
  },
  {
   "cell_type": "code",
   "execution_count": null,
   "metadata": {},
   "outputs": [],
   "source": [
    "print(tensor3)\n",
    "tf.rank(tensor3)"
   ]
  }
 ],
 "metadata": {
  "kernelspec": {
   "display_name": "Python 3 (ipykernel)",
   "language": "python",
   "name": "python3"
  },
  "language_info": {
   "codemirror_mode": {
    "name": "ipython",
    "version": 3
   },
   "file_extension": ".py",
   "mimetype": "text/x-python",
   "name": "python",
   "nbconvert_exporter": "python",
   "pygments_lexer": "ipython3",
   "version": "3.11.7"
  }
 },
 "nbformat": 4,
 "nbformat_minor": 4
}
