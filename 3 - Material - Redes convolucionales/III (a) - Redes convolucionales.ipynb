{
  "cells": [
    {
      "cell_type": "markdown",
      "metadata": {
        "id": "UrPjNZyzNsj3"
      },
      "source": [
        "# Redes convolucionales\n",
        "Estos ejemplo implementa y entrena modelos de redes neuronales convolucionales y densas utilizando TensorFlow y Keras. La idea es comparar el comportamiento de un tipo de Red Neuronal frente al otro, para verificar la performance de cada uno en el mismo escenario."
      ]
    },
    {
      "cell_type": "markdown",
      "metadata": {
        "id": "86obhVaxNsj5"
      },
      "source": [
        "## Importar librerias"
      ]
    },
    {
      "cell_type": "code",
      "execution_count": null,
      "metadata": {
        "id": "AxHvoefPNsj5"
      },
      "outputs": [],
      "source": [
        "import numpy as np\n",
        "import time\n",
        "import matplotlib.pyplot as plt\n",
        "\n",
        "import tensorflow as tf"
      ]
    },
    {
      "cell_type": "code",
      "execution_count": null,
      "metadata": {
        "id": "lM7ScSl8Nsj6"
      },
      "outputs": [],
      "source": [
        "from tensorflow.keras.models import Model\n",
        "from tensorflow.keras.layers import Input, Dense, Dropout, Flatten\n",
        "from tensorflow.keras.layers import Conv2D, MaxPooling2D\n",
        "\n",
        "from tensorflow.keras.metrics import MSE\n",
        "from tensorflow.keras.optimizers import Adadelta\n",
        "from tensorflow.keras.losses import categorical_crossentropy\n",
        "\n",
        "from tensorflow.keras.utils import to_categorical\n",
        "\n",
        "# El dataset CIFAR-10, contiene imágenes de 10 categorías diferentes.\n",
        "from tensorflow.keras.datasets import cifar10"
      ]
    },
    {
      "cell_type": "code",
      "execution_count": null,
      "metadata": {
        "id": "YtnXAyQGNsj7"
      },
      "outputs": [],
      "source": [
        "lr = 1.0\n",
        "epochs = 5\n",
        "batch_size = 32\n",
        "np.random.seed(14)"
      ]
    },
    {
      "cell_type": "markdown",
      "metadata": {
        "id": "8-GO7UwUNsj7"
      },
      "source": [
        "## Cargar y visualizar el dataset"
      ]
    },
    {
      "cell_type": "code",
      "execution_count": null,
      "metadata": {
        "id": "Z7wiCJbZNsj7"
      },
      "outputs": [],
      "source": [
        "(x_train, y_train), (x_test, y_test) = cifar10.load_data()\n",
        "n_classes = np.max(np.unique(y_train)) + 1\n",
        "\n",
        "print(\"Verificamos la cantidad de clases = %d\" % (n_classes))"
      ]
    },
    {
      "cell_type": "code",
      "execution_count": null,
      "metadata": {
        "id": "E7exRg9KNsj8"
      },
      "outputs": [],
      "source": [
        "num = 25\n",
        "images = x_train[:num]\n",
        "labels = y_train[:num]\n",
        "num_row = 5\n",
        "num_col = 5\n",
        "fig, axes = plt.subplots(num_row, num_col, figsize=(1.5*num_col,2*num_row))\n",
        "for i in range(num):\n",
        "    ax = axes[i//num_col, i%num_col]\n",
        "    ax.imshow(images[i], cmap='gray')\n",
        "    ax.set_title('Label: {}'.format(labels[i]))\n",
        "    ax.axis('off')\n",
        "plt.tight_layout()\n",
        "plt.show()"
      ]
    },
    {
      "cell_type": "markdown",
      "metadata": {
        "id": "ggzicxyfNsj9"
      },
      "source": [
        "## Preparacion de los datos"
      ]
    },
    {
      "cell_type": "code",
      "execution_count": null,
      "metadata": {
        "id": "hDpI0j45Nsj9"
      },
      "outputs": [],
      "source": [
        "x_train = x_train.astype('float32') / 255.0\n",
        "x_test = x_test.astype('float32') / 255.0"
      ]
    },
    {
      "cell_type": "code",
      "execution_count": null,
      "metadata": {
        "id": "hq1uDo1RNsj9"
      },
      "outputs": [],
      "source": [
        "y_train = to_categorical(y_train, n_classes)\n",
        "y_test = to_categorical(y_test, n_classes) #one-hot encoding"
      ]
    },
    {
      "cell_type": "code",
      "execution_count": null,
      "metadata": {
        "id": "__HXsNUeNsj9"
      },
      "outputs": [],
      "source": [
        "# Se realiza un reshape de todas las imágenes en el conjunto de datos de\n",
        "# entrenamiento para transformarlas de matrices tridimensionales a vectores\n",
        "# unidimensionales:\n",
        "x_train = x_train.reshape(x_train.shape[0], np.prod(x_train.shape[1:]))\n",
        "x_test = x_test.reshape(x_test.shape[0], np.prod(x_test.shape[1:]))"
      ]
    },
    {
      "cell_type": "code",
      "execution_count": null,
      "metadata": {
        "id": "u4KWr3ZYNsj9"
      },
      "outputs": [],
      "source": [
        "# Dimensiones del conjunto de datos de entrenamiento:\n",
        "# El primer número representa la cantidad  de ejemplos o imágenes en\n",
        "# el conjunto de datos de entrenamiento.\n",
        "# El segundo el número de características por ejemplo.\n",
        "x_train.shape"
      ]
    },
    {
      "cell_type": "markdown",
      "metadata": {
        "id": "AKt9OuRGNsj-"
      },
      "source": [
        "## Modelo de redes densas"
      ]
    },
    {
      "cell_type": "code",
      "execution_count": null,
      "metadata": {
        "id": "LfPyLwnnNsj-"
      },
      "outputs": [],
      "source": [
        "# Model\n",
        "#---------------------------------------------------------------------#\n",
        "input_layer = Input(shape=x_train.shape[1:])\n",
        "dense_1 = Dense(500, activation='relu') (input_layer)\n",
        "dropout_1 = Dropout(0.25) (dense_1)\n",
        "dense_2 = Dense(500, activation='relu') (dropout_1)\n",
        "dropout_2 = Dropout(0.25) (dense_2)\n",
        "dense_3 = Dense(500, activation='relu') (dropout_2)\n",
        "dropout_3 = Dropout(0.25) (dense_3)\n",
        "output_layer = Dense(n_classes, activation='softmax') (dropout_3)\n",
        "#---------------------------------------------------------------------#\n",
        "model_dense = Model(input_layer, output_layer)"
      ]
    },
    {
      "cell_type": "code",
      "execution_count": null,
      "metadata": {
        "id": "NDUZzHw_Nsj-"
      },
      "outputs": [],
      "source": [
        "Adadelta_optimizer = Adadelta(learning_rate=lr, rho=0.95)\n",
        "model_dense.compile(optimizer=Adadelta_optimizer, loss='categorical_crossentropy', metrics=['acc', 'mse'])\n",
        "model_dense.summary()"
      ]
    },
    {
      "cell_type": "markdown",
      "metadata": {
        "id": "-zQOmcj_Nsj-"
      },
      "source": [
        "## Entrenar el modelo"
      ]
    },
    {
      "cell_type": "code",
      "execution_count": null,
      "metadata": {
        "id": "oEQ9NnEkNsj-"
      },
      "outputs": [],
      "source": [
        "start_time = time.time()\n",
        "history_dense = model_dense.fit(x_train, y_train, epochs=epochs, batch_size=batch_size, validation_data=(x_test, y_test), shuffle=True, verbose=1)\n",
        "end_time = time.time()\n",
        "print('\\nElapsed Dense Model training time: {:.5f} seconds'.format(end_time-start_time))"
      ]
    },
    {
      "cell_type": "markdown",
      "metadata": {
        "id": "Y1uLj5XkNsj-"
      },
      "source": [
        "## Modelo de redes convolucionales"
      ]
    },
    {
      "cell_type": "code",
      "execution_count": null,
      "metadata": {
        "id": "bGJ6Li1nNsj_"
      },
      "outputs": [],
      "source": [
        "(x_train, y_train), (x_test, y_test) = cifar10.load_data()\n",
        "n_classes = np.max(np.unique(y_train)) + 1"
      ]
    },
    {
      "cell_type": "code",
      "execution_count": null,
      "metadata": {
        "id": "pc9O-XeFNsj_"
      },
      "outputs": [],
      "source": [
        "x_train = x_train.astype('float32') / 255.0\n",
        "x_test = x_test.astype('float32') / 255.0"
      ]
    },
    {
      "cell_type": "code",
      "execution_count": null,
      "metadata": {
        "id": "6wNoDd6_Nsj_"
      },
      "outputs": [],
      "source": [
        "y_train = to_categorical(y_train, n_classes)\n",
        "y_test = to_categorical(y_test, n_classes) #one-hot encoding"
      ]
    },
    {
      "cell_type": "code",
      "execution_count": null,
      "metadata": {
        "id": "lXOU749VNsj_"
      },
      "outputs": [],
      "source": [
        "x_train.shape"
      ]
    },
    {
      "cell_type": "code",
      "execution_count": null,
      "metadata": {
        "id": "dWr2TT4RNsj_"
      },
      "outputs": [],
      "source": [
        "# Model\n",
        "#---------------------------------------------------------------------#\n",
        "input_layer = Input(shape=x_train.shape[1:])\n",
        "conv_1 = Conv2D(32, (3, 3), activation='relu') (input_layer)\n",
        "conv_2 = Conv2D(64, (3, 3), activation='relu') (conv_1)\n",
        "pool_1 = MaxPooling2D(pool_size=(2, 2)) (conv_2)\n",
        "dropout_1 = Dropout(0.25) (pool_1)\n",
        "flatten_1 = Flatten() (dropout_1)\n",
        "dense_1 = Dense(100, activation='relu') (flatten_1)\n",
        "dropout_2 = Dropout(0.25) (dense_1)\n",
        "output_layer = Dense(n_classes, activation='softmax') (dropout_2)\n",
        "#---------------------------------------------------------------------#\n",
        "model_conv = Model(input_layer, output_layer)"
      ]
    },
    {
      "cell_type": "code",
      "execution_count": null,
      "metadata": {
        "id": "ubXnyqGzNsj_"
      },
      "outputs": [],
      "source": [
        "model_conv.compile(optimizer=Adadelta_optimizer, loss='categorical_crossentropy', metrics=['acc', 'mse'])\n",
        "model_conv.summary()"
      ]
    },
    {
      "cell_type": "code",
      "execution_count": null,
      "metadata": {
        "id": "uLOJRuvZNskA"
      },
      "outputs": [],
      "source": [
        "start_time = time.time()\n",
        "history_conv = model_conv.fit(x_train, y_train, epochs=epochs, batch_size=batch_size, validation_data=(x_test, y_test), shuffle=True, verbose=1)\n",
        "end_time = time.time()\n",
        "print('\\nElapsed Dense Model training time: {:.5f} seconds'.format(end_time-start_time))"
      ]
    },
    {
      "cell_type": "markdown",
      "metadata": {
        "id": "jwAb7x3HNskA"
      },
      "source": [
        "## Evaluar el proceso de entrenamiento"
      ]
    },
    {
      "cell_type": "code",
      "execution_count": null,
      "metadata": {
        "id": "2BtykbkVNskA"
      },
      "outputs": [],
      "source": [
        "f = plt.figure(figsize=(10,8))\n",
        "\n",
        "plt.subplot(1,2,1)\n",
        "plt.plot(history_dense.history['acc'], linewidth=3, label='Train Accuracy')\n",
        "plt.plot(history_dense.history['val_acc'], linewidth=3, label='Val Accuracy')\n",
        "plt.xlabel('Epochs')\n",
        "plt.ylabel('Accuracy')\n",
        "plt.axis([0, 4, 0, 1])\n",
        "plt.legend(loc='lower right')\n",
        "\n",
        "plt.subplot(1,2,2)\n",
        "plt.plot(history_conv.history['acc'], linewidth=3, label='Train Accuracy')\n",
        "plt.plot(history_conv.history['val_acc'], linewidth=3, label='Val Accuracy')\n",
        "plt.xlabel('Epochs')\n",
        "plt.ylabel('Accuracy')\n",
        "plt.axis([0, 4, 0, 1])\n",
        "plt.legend(loc='lower right')\n",
        "\n",
        "plt.show()"
      ]
    },
    {
      "cell_type": "code",
      "execution_count": null,
      "metadata": {
        "id": "WsquK0M4NskA"
      },
      "outputs": [],
      "source": [
        "f = plt.figure(figsize=(10,8))\n",
        "\n",
        "plt.subplot(1,2,1)\n",
        "plt.plot(history_dense.history['mse'], linewidth=3, label='Train Accuracy')\n",
        "plt.plot(history_dense.history['val_mse'], linewidth=3, label='Val Accuracy')\n",
        "plt.xlabel('Epochs')\n",
        "plt.ylabel('MSE')\n",
        "plt.axis([0, 4, 0, 0.1])\n",
        "plt.legend(loc='lower right')\n",
        "\n",
        "plt.subplot(1,2,2)\n",
        "plt.plot(history_conv.history['mse'], linewidth=3, label='Train Accuracy')\n",
        "plt.plot(history_conv.history['val_mse'], linewidth=3, label='Val Accuracy')\n",
        "plt.xlabel('Epochs')\n",
        "plt.ylabel('MSE')\n",
        "plt.axis([0, 4, 0, 0.1])\n",
        "plt.legend(loc='lower right')\n",
        "\n",
        "plt.show()"
      ]
    },
    {
      "cell_type": "markdown",
      "source": [
        "Las redes convolucionales muestran generalmente un mejor desempeño en la clasificación de imágenes debido a su capacidad para extraer características relevantes y reducir la dimensionalidad de manera eficiente."
      ],
      "metadata": {
        "id": "4gaH6nZfQShh"
      }
    },
    {
      "cell_type": "code",
      "source": [],
      "metadata": {
        "id": "AaqWP80oQgsJ"
      },
      "execution_count": null,
      "outputs": []
    }
  ],
  "metadata": {
    "kernelspec": {
      "display_name": "Python 3",
      "language": "python",
      "name": "python3"
    },
    "language_info": {
      "codemirror_mode": {
        "name": "ipython",
        "version": 3
      },
      "file_extension": ".py",
      "mimetype": "text/x-python",
      "name": "python",
      "nbconvert_exporter": "python",
      "pygments_lexer": "ipython3",
      "version": "3.8.2"
    },
    "colab": {
      "provenance": []
    }
  },
  "nbformat": 4,
  "nbformat_minor": 0
}